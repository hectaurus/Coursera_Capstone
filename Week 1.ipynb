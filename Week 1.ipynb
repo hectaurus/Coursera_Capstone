{
 "cells": [
  {
   "cell_type": "markdown",
   "metadata": {},
   "source": [
    "# Week 4 - Part 1 - Peer Grade Assignment:"
   ]
  },
  {
   "cell_type": "markdown",
   "metadata": {},
   "source": [
    "## Capstone Project"
   ]
  },
  {
   "cell_type": "markdown",
   "metadata": {},
   "source": [
    "### Introduction / Business Problem Section\n",
    "\n",
    "A client targets to open a food place that will be situated in New York area but he is not able to figure out what type of eating place will be best welcome by New Yorker and also the choices of location so that his investment more secure and the ROI will be higher.\n",
    "\n",
    "First of all, questions have been asked to the investor in order to better understand his requirement and also help to find out appropriate suggestion for him. Here are the summary of those questions and answer.\n",
    "\n",
    "### Question 1: What kind of restaurant you are target to invest?\n",
    "Answer: It is quite open and really depends on which kinds of food that New Yorker usually like to try. It is better to have some study to find out what New Yorker like most.\n",
    "\n",
    "### Question 2: What is your expect location for the restaurant?\n",
    "Answer: The most popular the better. I will target to open a spectacular type of restaurant that attract people eyeball and also easy reach by my customers. As a business point of view, area that has a lot of hot spot venues will grab people attention. I am not affair of competition. As long as my restaurant has special features, it is better to open in a crowded place to draw more attention.\n",
    "\n",
    "### Question 3: What is your target customer or type of customer?\n",
    "Answer: Well, it is better to suitable for whole family gathering and enjoy their meal in my restaurant. I do not mean not welcome to individual or couples but really prefer to have a place for family members suitable for kids, parent and their aged family members are all welcome.\n",
    "\n",
    "### Question 4: Do you have any prefer diet type provide?\n",
    "Answer: Since I want to host a family style customers, variety of food type could be considered. However, I also want to understand what kinds of food is most popular be accepted in the target area that the restaurant will be located. Taking reference to surrounding venues will always be a good practice.\n",
    "\n",
    "By collecting the requirement from our investor, we can collect data from possible source including web pages, from map and also from location based data provider foursquare.com and analysis with scientific method to find some answer for the investor."
   ]
  }
 ],
 "metadata": {
  "kernelspec": {
   "display_name": "Python 3",
   "language": "python",
   "name": "python3"
  },
  "language_info": {
   "codemirror_mode": {
    "name": "ipython",
    "version": 3
   },
   "file_extension": ".py",
   "mimetype": "text/x-python",
   "name": "python",
   "nbconvert_exporter": "python",
   "pygments_lexer": "ipython3",
   "version": "3.7.4"
  }
 },
 "nbformat": 4,
 "nbformat_minor": 2
}
