{
 "cells": [
  {
   "cell_type": "markdown",
   "metadata": {},
   "source": [
    "# Week 4 - Part 2 - Peer Grade Assignment:"
   ]
  },
  {
   "cell_type": "markdown",
   "metadata": {},
   "source": [
    "### Data Section"
   ]
  },
  {
   "cell_type": "markdown",
   "metadata": {},
   "source": [
    "There are 5 boroughs withing New York namely Bronx, Brooklyn (Kings County), Manhattan (New York County), Queens and New York City. In order to find a suitable place for the new restaurant, an understand of the population size and density of the 5 boroughs has to be found out. Luckily, a website (https://en.wikipedia.org/wiki/Demographics_of_New_York_City) contains valuable data about the population size and density about New York city. That exactly what we need as the basic information for choosing the highest population density to be the potential target to open the restaurant as it provides a better customers pool."
   ]
  },
  {
   "cell_type": "code",
   "execution_count": 2,
   "metadata": {},
   "outputs": [
    {
     "data": {
      "text/html": [
       "\n",
       "        <iframe\n",
       "            width=\"700\"\n",
       "            height=\"600\"\n",
       "            src=\"https://en.wikipedia.org/wiki/Demographics_of_New_York_City\"\n",
       "            frameborder=\"0\"\n",
       "            allowfullscreen\n",
       "        ></iframe>\n",
       "        "
      ],
      "text/plain": [
       "<IPython.lib.display.IFrame at 0x2535da5dc88>"
      ]
     },
     "execution_count": 2,
     "metadata": {},
     "output_type": "execute_result"
    }
   ],
   "source": [
    "from IPython.display import Image\n",
    "from IPython.core.display import HTML \n",
    "from IPython.display import IFrame\n",
    "\n",
    "IFrame(src='https://en.wikipedia.org/wiki/Demographics_of_New_York_City', width=700, height=600)"
   ]
  },
  {
   "cell_type": "markdown",
   "metadata": {},
   "source": [
    "Another important data source will be from FOURSQUARE website. By using API call to find out the “Top Picks” and “Food” venues from the neighborhoods of the 5 boroughs, a list of favor activities and food can help to decide what type of restaurant will be best suite New Yorker. The key idea is to suggest a fusion place to provide the most favor diet together with most interested activity to customers. That aims to provide a good place for New Yorker to join together with their family and friends and enjoy their preferred foods."
   ]
  },
  {
   "cell_type": "markdown",
   "metadata": {},
   "source": [
    "#### Bronx"
   ]
  },
  {
   "cell_type": "code",
   "execution_count": 6,
   "metadata": {},
   "outputs": [
    {
     "data": {
      "text/html": [
       "<img src=\"https://drive.google.com/uc?authuser=0&id=1Duocl6ykve_3klVdGusZ4oucBBr1Lfn9\"/>"
      ],
      "text/plain": [
       "<IPython.core.display.Image object>"
      ]
     },
     "execution_count": 6,
     "metadata": {},
     "output_type": "execute_result"
    }
   ],
   "source": [
    "Image(url=\"https://drive.google.com/uc?authuser=0&id=1Duocl6ykve_3klVdGusZ4oucBBr1Lfn9\")"
   ]
  },
  {
   "cell_type": "code",
   "execution_count": 8,
   "metadata": {},
   "outputs": [
    {
     "data": {
      "text/html": [
       "<img src=\"https://drive.google.com/uc?authuser=0&id=1Dk5po9RX802X8vij8uBbYyRoDkx11Xfe\"/>"
      ],
      "text/plain": [
       "<IPython.core.display.Image object>"
      ]
     },
     "execution_count": 8,
     "metadata": {},
     "output_type": "execute_result"
    }
   ],
   "source": [
    "Image(url=\"https://drive.google.com/uc?authuser=0&id=1Dk5po9RX802X8vij8uBbYyRoDkx11Xfe\")"
   ]
  },
  {
   "cell_type": "markdown",
   "metadata": {},
   "source": [
    "### Brooklyn"
   ]
  },
  {
   "cell_type": "code",
   "execution_count": 9,
   "metadata": {},
   "outputs": [
    {
     "data": {
      "text/html": [
       "<img src=\"https://drive.google.com/uc?authuser=0&id=1vJ1Z3DDSh5WZiq-VAAZOM7FHqvoj02G9\"/>"
      ],
      "text/plain": [
       "<IPython.core.display.Image object>"
      ]
     },
     "execution_count": 9,
     "metadata": {},
     "output_type": "execute_result"
    }
   ],
   "source": [
    "Image(url=\"https://drive.google.com/uc?authuser=0&id=1vJ1Z3DDSh5WZiq-VAAZOM7FHqvoj02G9\")"
   ]
  },
  {
   "cell_type": "code",
   "execution_count": 10,
   "metadata": {},
   "outputs": [
    {
     "data": {
      "text/html": [
       "<img src=\"https://drive.google.com/uc?authuser=0&id=19GLBIhsBcXg6Kw6xCoUKz92n7x2UG1M-\"/>"
      ],
      "text/plain": [
       "<IPython.core.display.Image object>"
      ]
     },
     "execution_count": 10,
     "metadata": {},
     "output_type": "execute_result"
    }
   ],
   "source": [
    "Image(url=\"https://drive.google.com/uc?authuser=0&id=19GLBIhsBcXg6Kw6xCoUKz92n7x2UG1M-\")"
   ]
  },
  {
   "cell_type": "markdown",
   "metadata": {},
   "source": [
    "### Manhattan"
   ]
  },
  {
   "cell_type": "code",
   "execution_count": 11,
   "metadata": {},
   "outputs": [
    {
     "data": {
      "text/html": [
       "<img src=\"https://drive.google.com/uc?authuser=0&id=1c2hUS6jppbKa-8AT1OWvIrxsCmrQPO6C\"/>"
      ],
      "text/plain": [
       "<IPython.core.display.Image object>"
      ]
     },
     "execution_count": 11,
     "metadata": {},
     "output_type": "execute_result"
    }
   ],
   "source": [
    "Image(url=\"https://drive.google.com/uc?authuser=0&id=1c2hUS6jppbKa-8AT1OWvIrxsCmrQPO6C\")"
   ]
  },
  {
   "cell_type": "code",
   "execution_count": 12,
   "metadata": {},
   "outputs": [
    {
     "data": {
      "text/html": [
       "<img src=\"https://drive.google.com/uc?authuser=0&id=1Cf3Rp7nvrg1iTUHx4xnSn_o2SLcplxs6\"/>"
      ],
      "text/plain": [
       "<IPython.core.display.Image object>"
      ]
     },
     "execution_count": 12,
     "metadata": {},
     "output_type": "execute_result"
    }
   ],
   "source": [
    "Image(url=\"https://drive.google.com/uc?authuser=0&id=1Cf3Rp7nvrg1iTUHx4xnSn_o2SLcplxs6\")"
   ]
  },
  {
   "cell_type": "markdown",
   "metadata": {},
   "source": [
    "### New York City"
   ]
  },
  {
   "cell_type": "code",
   "execution_count": 13,
   "metadata": {},
   "outputs": [
    {
     "data": {
      "text/html": [
       "<img src=\"https://drive.google.com/uc?authuser=0&id=1h02TKwr8cs4Z7CW9d32l1peDmL4vYPyu\"/>"
      ],
      "text/plain": [
       "<IPython.core.display.Image object>"
      ]
     },
     "execution_count": 13,
     "metadata": {},
     "output_type": "execute_result"
    }
   ],
   "source": [
    "Image(url=\"https://drive.google.com/uc?authuser=0&id=1h02TKwr8cs4Z7CW9d32l1peDmL4vYPyu\")"
   ]
  },
  {
   "cell_type": "code",
   "execution_count": 14,
   "metadata": {},
   "outputs": [
    {
     "data": {
      "text/html": [
       "<img src=\"https://drive.google.com/uc?authuser=0&id=13Imb_LQL6TVg0QZOB2d_vmx3jX9k_-Jj\"/>"
      ],
      "text/plain": [
       "<IPython.core.display.Image object>"
      ]
     },
     "execution_count": 14,
     "metadata": {},
     "output_type": "execute_result"
    }
   ],
   "source": [
    "Image(url=\"https://drive.google.com/uc?authuser=0&id=13Imb_LQL6TVg0QZOB2d_vmx3jX9k_-Jj\")"
   ]
  },
  {
   "cell_type": "markdown",
   "metadata": {},
   "source": [
    "### Queens"
   ]
  },
  {
   "cell_type": "code",
   "execution_count": 15,
   "metadata": {},
   "outputs": [
    {
     "data": {
      "text/html": [
       "<img src=\"https://drive.google.com/uc?authuser=0&id=1uoeTR7O8CkM0uEUqO5-FeLsotC6Fkepc\"/>"
      ],
      "text/plain": [
       "<IPython.core.display.Image object>"
      ]
     },
     "execution_count": 15,
     "metadata": {},
     "output_type": "execute_result"
    }
   ],
   "source": [
    "Image(url=\"https://drive.google.com/uc?authuser=0&id=1uoeTR7O8CkM0uEUqO5-FeLsotC6Fkepc\")"
   ]
  },
  {
   "cell_type": "code",
   "execution_count": 16,
   "metadata": {},
   "outputs": [
    {
     "data": {
      "text/html": [
       "<img src=\"https://drive.google.com/uc?authuser=0&id=1ZGxUKEPIFra8829Xm271fyr6_lju2PHl\"/>"
      ],
      "text/plain": [
       "<IPython.core.display.Image object>"
      ]
     },
     "execution_count": 16,
     "metadata": {},
     "output_type": "execute_result"
    }
   ],
   "source": [
    "Image(url=\"https://drive.google.com/uc?authuser=0&id=1ZGxUKEPIFra8829Xm271fyr6_lju2PHl\")"
   ]
  },
  {
   "cell_type": "markdown",
   "metadata": {},
   "source": [
    "Both the population data from wikipedia and venues data from FOURSQUARE will be gone through machine learning process to find out the best combination of food and activity that New Yorker love to have and the best location that the restaurant will be placed. With such processes, it is believe that the investor request can be fulfilled."
   ]
  }
 ],
 "metadata": {
  "kernelspec": {
   "display_name": "Python 3",
   "language": "python",
   "name": "python3"
  },
  "language_info": {
   "codemirror_mode": {
    "name": "ipython",
    "version": 3
   },
   "file_extension": ".py",
   "mimetype": "text/x-python",
   "name": "python",
   "nbconvert_exporter": "python",
   "pygments_lexer": "ipython3",
   "version": "3.7.4"
  }
 },
 "nbformat": 4,
 "nbformat_minor": 2
}
